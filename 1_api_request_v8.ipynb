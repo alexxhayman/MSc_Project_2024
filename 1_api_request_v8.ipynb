{
 "cells": [
  {
   "cell_type": "markdown",
   "id": "784f3a61",
   "metadata": {},
   "source": [
    "# This file is for making API requests to the 99 Spokes server\n",
    "\n",
    "The API Key is stored in the terminal on the local Macbook machine\n",
    "This is to avoid sharing the API key when pushing the code or sharing with others\n",
    "\n",
    "API Variable = MY_API_KEY"
   ]
  },
  {
   "cell_type": "markdown",
   "id": "5967cb0c",
   "metadata": {},
   "source": [
    "### Breakdown on how to use the terminal on Mac OS (14)\n",
    "\n",
    "1. Set an environment Variable (theAPI Key) to your shell configuration.\n",
    "2. Open terminal, check is shell is using \"zsh\" as default shell, to do this type:\n",
    "\n",
    "\"echo $SHELL\" \n",
    "\n",
    "If the output ends with \"/zsh\", then your default shell is zsh.\n",
    "\n",
    "3. Edit the shell configuration file, type:\n",
    "\"nano ~/.zshrc\"\n",
    "\n",
    "4. In the file, move the cursor to below the last line, outside the block of code managed by conda init to avoid interfering with Conda's initialization script. \n",
    "5. Add the following line:\n",
    "\n",
    "\"export MY_API_KEY=\"your_actual_api_key_here\"\"\n",
    "\n",
    "6. \"Ctrl O\" \n",
    "will write (save) the changes to the file. \n",
    "\n",
    "7. Press \"Enter\" \n",
    "to confirm these changes\n",
    "\n",
    "8. Restart the terminal:\n",
    "\n",
    "\"source ~/.zshrc\"\n",
    "\n",
    "9. Confirm the environment variable is set, you can echo it in the Terminal:\n",
    "\n",
    "\"echo $MY_API_KEY\"\n",
    "\n",
    "\n",
    "\n"
   ]
  },
  {
   "cell_type": "markdown",
   "id": "fc18b0b2",
   "metadata": {},
   "source": [
    "# Testing API Key is set"
   ]
  },
  {
   "cell_type": "code",
   "execution_count": 1,
   "id": "cc252c12",
   "metadata": {
    "scrolled": false
   },
   "outputs": [
    {
     "name": "stdout",
     "output_type": "stream",
     "text": [
      "API key is set.\n"
     ]
    }
   ],
   "source": [
    "# This script is for testing whether the environment variable has been set and can be accessed by jupyter notebooks\n",
    "\n",
    "import os\n",
    "\n",
    "def apikey_test():\n",
    "\n",
    "    # Retrieve the API key from the environment variable\n",
    "    api_key = os.environ.get('MY_API_KEY')\n",
    "\n",
    "    # Check if the API key was successfully retrieved\n",
    "    if api_key is not None:\n",
    "        print(\"API key is set.\")\n",
    "    else:\n",
    "        print(\"API key is not set.\")\n",
    "        \n",
    "apikey_test()\n"
   ]
  },
  {
   "cell_type": "code",
   "execution_count": null,
   "id": "507005eb",
   "metadata": {},
   "outputs": [],
   "source": []
  },
  {
   "cell_type": "markdown",
   "id": "822b2dbb",
   "metadata": {},
   "source": [
    "# Making an API Call\n",
    "\n",
    "Now that we know the API key is set and is reachable, we can make our first API request"
   ]
  },
  {
   "cell_type": "markdown",
   "id": "e10d8081",
   "metadata": {},
   "source": [
    "### Final Version\n",
    "This version is going to be saved as a module and called in a new notebook using a function "
   ]
  },
  {
   "cell_type": "code",
   "execution_count": 1,
   "id": "49f43f67",
   "metadata": {
    "scrolled": false
   },
   "outputs": [
    {
     "name": "stdout",
     "output_type": "stream",
     "text": [
      "No more pages to fetch for year 2020.\n",
      "No more pages to fetch for year 2021.\n",
      "No more pages to fetch for year 2022.\n",
      "No more pages to fetch for year 2023.\n",
      "No more pages to fetch for year 2024.\n",
      "Total bikes available: 17741\n",
      "Total road bikes from 2020 to 2024 fetched: 17741\n",
      "All road bikes from 2020 to 2024 saved to all_road_bikes_2020-2024.json\n"
     ]
    }
   ],
   "source": [
    "# Version Final\n",
    "# This version now handles all elements required for the final API Request:\n",
    "# 1. It handles the authorisation using the x-api-key header (which was adjusted from Bearer at first). \n",
    "# 2. The API Key is stored in the local environment in the terminal as variable \"MY_API_KEY\". \n",
    "# 3. The cursor parameter is set as 'start' to begin with as it is the first request. \n",
    "# 4. A while loop is used to constantly request for the next 500 items (the limit), until the 'nextCursor' is none.\n",
    "# 5. All the items are then saved in a JSON file (which is dynamically named according to the params\n",
    "\n",
    "import requests\n",
    "import os\n",
    "import json\n",
    "\n",
    "# Initialize the API details\n",
    "base_url = 'https://api.99spokes.com/v1/bikes'\n",
    "auth_token = os.environ.get('MY_API_KEY')  # Retrieve API key from environment variable\n",
    "headers = {\n",
    "    'x-api-key': auth_token  # Use x-api-key header for authorization\n",
    "}\n",
    "\n",
    "# Initialize the common query parameters\n",
    "params = {\n",
    "    'category': 'road',\n",
    "    'include': 'sizes',\n",
    "    'limit': 500,  # Adjust limit to 500\n",
    "}\n",
    "\n",
    "# List to hold all bikes\n",
    "all_bikes = []\n",
    "\n",
    "# Loop through the years 2020 to 2024\n",
    "for year in range(2020, 2025):\n",
    "    params['year'] = year\n",
    "    params['cursor'] = 'start'  # Reset cursor for each year\n",
    "\n",
    "    # Use a while loop to page through the results for each year\n",
    "    while True:\n",
    "        response = requests.get(base_url, headers=headers, params=params)\n",
    "        response.raise_for_status()\n",
    "\n",
    "        data = response.json()\n",
    "        bikes = data.get('items', [])\n",
    "        all_bikes.extend(bikes)\n",
    "\n",
    "        # Update the cursor for the next page\n",
    "        cursor = data.get('nextCursor')\n",
    "        if cursor:\n",
    "            params['cursor'] = cursor\n",
    "        else:\n",
    "            print(f\"No more pages to fetch for year {year}.\")\n",
    "            break  # Exit the loop if there is no next cursor\n",
    "\n",
    "# Save the fetched data to a JSON file\n",
    "category = params['category']\n",
    "file_name = f'all_{category}_bikes_2020-2024.json'\n",
    "with open(file_name, 'w') as file:\n",
    "    json.dump(all_bikes, file)\n",
    "\n",
    "total_count = len(all_bikes)\n",
    "print(f\"Total bikes available: {total_count}\")\n",
    "print(f\"Total {category} bikes from 2020 to 2024 fetched: {len(all_bikes)}\")\n",
    "print(f\"All {category} bikes from 2020 to 2024 saved to {file_name}\")\n"
   ]
  },
  {
   "cell_type": "markdown",
   "id": "281c45b9",
   "metadata": {},
   "source": [
    "Let's break down how this code works step by step:\n",
    "\n",
    "1. **Import Necessary Libraries**\n",
    "   - `requests` for making HTTP requests.\n",
    "   - `os` to access environment variables.\n",
    "   - `json` for JSON parsing and file operations.\n",
    "\n",
    "2. **Initialize API Details**\n",
    "   - `base_url` holds the endpoint URL of the 99 Spokes API for bike information.\n",
    "   - `auth_token` is fetched from an environment variable `MY_API_KEY`, ensuring that the API key is not hardcoded in the script. This is a security best practice.\n",
    "   - `headers` dictionary contains the API key under `x-api-key`, used for authenticating requests to the API.\n",
    "\n",
    "3. **Set Up Query Parameters**\n",
    "   - `params` dictionary contains parameters for the API request: year of the bikes, category (`road`), limit per request (`500`), and initial cursor value (`start`). These parameters help in filtering and paginating the API response.\n",
    "\n",
    "4. **Fetch and Aggregate Data**\n",
    "   - An empty list `all_bikes` is initialized to store the fetched bike data.\n",
    "   - A `while` loop starts, making repeated requests to the API endpoint as long as there is data to fetch.\n",
    "   - Inside the loop, `requests.get()` is called with the API `base_url`, `headers`, and `params` to fetch the data. `.raise_for_status()` ensures that an exception is thrown for HTTP error responses, which helps in debugging failed requests.\n",
    "   - The response is parsed to JSON, and the `items` key is accessed to get the list of bikes, which is then extended into the `all_bikes` list.\n",
    "   - The `cursor` is checked in the response. If there's a `nextCursor`, the `params['cursor']` is updated to fetch the next set of data; otherwise, the loop breaks.\n",
    "\n",
    "5. **Save Data to JSON File**\n",
    "   - After exiting the loop, variables `year` and `category` are fetched from the `params` for use in naming the output file.\n",
    "   - The file name is dynamically created using `year` and `category`, ensuring that the saved file clearly indicates the data it contains.\n",
    "   - `json.dump()` writes the aggregated bike data into the named file in JSON format.\n",
    "\n",
    "6. **Print Summary**\n",
    "   - The total number of bikes fetched is printed, alongside a confirmation message indicating the completion of data retrieval and the file where the data is saved.\n",
    "\n",
    "By following these steps, the script robustly handles API communication, data fetching, and saving while maintaining good practices such as dynamic naming, pagination handling, and error checking."
   ]
  },
  {
   "cell_type": "code",
   "execution_count": null,
   "id": "03d25d80",
   "metadata": {},
   "outputs": [],
   "source": []
  },
  {
   "cell_type": "markdown",
   "id": "95bc775e",
   "metadata": {},
   "source": [
    "# Fetching Only 10 Bikes"
   ]
  },
  {
   "cell_type": "code",
   "execution_count": 8,
   "id": "cf2874e5",
   "metadata": {
    "scrolled": false
   },
   "outputs": [
    {
     "name": "stdout",
     "output_type": "stream",
     "text": [
      "No more pages to fetch or reached the limit of 10 bikes.\n",
      "Total bikes available: 10\n",
      "Total road bikes from 2024 fetched: 10\n",
      "10 road bikes from 2024 saved to 10_road_bikes_2024.json\n"
     ]
    }
   ],
   "source": [
    "# This script requests up to 10 bikes using API pagination.\n",
    "# It's used to test the ratios calculations, read the file, calculate ratios, and insert them into the file.\n",
    "\n",
    "import requests\n",
    "import os\n",
    "import json\n",
    "\n",
    "# Initialize the API details\n",
    "base_url = 'https://api.99spokes.com/v1/bikes'\n",
    "auth_token = os.environ.get('MY_API_KEY')  # Retrieve API key from environment variable\n",
    "headers = {\n",
    "    'x-api-key': auth_token  # Use x-api-key header for authorization\n",
    "}\n",
    "\n",
    "# Initialize the query parameters\n",
    "params = {\n",
    "    'year': 2024,\n",
    "    'category': 'road',\n",
    "    'include': 'sizes',\n",
    "    'limit': 10  # Set limit to fetch up to 10 bikes per API call\n",
    "}\n",
    "\n",
    "# List to hold all bikes\n",
    "all_bikes = []\n",
    "\n",
    "# Use a while loop to page through the results\n",
    "try:\n",
    "    while len(all_bikes) < 10:\n",
    "        response = requests.get(base_url, headers=headers, params=params)\n",
    "        response.raise_for_status()\n",
    "\n",
    "        data = response.json()\n",
    "        bikes = data.get('items', [])\n",
    "        all_bikes.extend(bikes[:max(0, 10 - len(all_bikes))])  # Adjust to not exceed 10 bikes\n",
    "\n",
    "        # Update the cursor for the next page\n",
    "        cursor = data.get('nextCursor')\n",
    "        if cursor and len(all_bikes) < 10:\n",
    "            params['cursor'] = cursor\n",
    "        else:\n",
    "            print(\"No more pages to fetch or reached the limit of 10 bikes.\")\n",
    "            break  # Exit the loop if there is no next cursor or 10 bikes are collected\n",
    "except requests.RequestException as e:\n",
    "    print(f\"An error occurred: {e}\")\n",
    "\n",
    "year = params['year']\n",
    "limit = params['limit']\n",
    "category = params['category']\n",
    "file_name = f'{limit}_{category}_bikes_{year}.json'\n",
    "\n",
    "# Save the fetched data to a JSON file\n",
    "with open(file_name, 'w') as file:\n",
    "    json.dump(all_bikes, file)\n",
    "\n",
    "total_count = len(all_bikes)\n",
    "print(f\"Total bikes available: {total_count}\")\n",
    "print(f\"Total {category} bikes from {year} fetched: {len(all_bikes)}\")\n",
    "print(f\"{limit} {category} bikes from {year} saved to {file_name}\")\n"
   ]
  },
  {
   "cell_type": "code",
   "execution_count": null,
   "id": "9dfad638",
   "metadata": {},
   "outputs": [],
   "source": []
  }
 ],
 "metadata": {
  "kernelspec": {
   "display_name": "Python 3 (ipykernel)",
   "language": "python",
   "name": "python3"
  },
  "language_info": {
   "codemirror_mode": {
    "name": "ipython",
    "version": 3
   },
   "file_extension": ".py",
   "mimetype": "text/x-python",
   "name": "python",
   "nbconvert_exporter": "python",
   "pygments_lexer": "ipython3",
   "version": "3.11.5"
  }
 },
 "nbformat": 4,
 "nbformat_minor": 5
}
