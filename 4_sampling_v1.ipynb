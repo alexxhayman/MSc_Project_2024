{
 "cells": [
  {
   "cell_type": "code",
   "execution_count": 1,
   "id": "a601ea7b",
   "metadata": {},
   "outputs": [
    {
     "name": "stdout",
     "output_type": "stream",
     "text": [
      "Saved 20 randomly sampled rows to 'sample_road_bikes_2020-2024.csv'.\n"
     ]
    }
   ],
   "source": [
    "import pandas as pd\n",
    "import random\n",
    "\n",
    "def sample_rows(input_file, output_file, num_samples=20):\n",
    "    # Load the dataset\n",
    "    df = pd.read_csv(input_file)\n",
    "    \n",
    "    # Sample num_samples rows from the dataframe at random\n",
    "    sampled_df = df.sample(n=num_samples, random_state=random.seed(42))\n",
    "    \n",
    "    # Save the sampled rows to a new CSV file\n",
    "    sampled_df.to_csv(output_file, index=False)\n",
    "    \n",
    "    # Print confirmation that the file has been saved\n",
    "    print(f\"Saved {num_samples} randomly sampled rows to '{output_file}'.\")\n",
    "\n",
    "\n",
    "# Enter Data:\n",
    "if __name__ == \"__main__\":\n",
    "    input_file = 'encoded_road_bikes_2020-2024.csv'\n",
    "    output_file = 'sample_road_bikes_2020-2024.csv'\n",
    "    sample_rows(input_file, output_file)\n"
   ]
  },
  {
   "cell_type": "code",
   "execution_count": 1,
   "id": "9767a25b",
   "metadata": {},
   "outputs": [
    {
     "name": "stdout",
     "output_type": "stream",
     "text": [
      "No more pages to fetch for the year 2020.\n",
      "Total bikes available: 2990\n",
      "Total road bikes from 2020 fetched: 2990\n",
      "All road bikes from 2020 saved to all_road_bikes_2020.json\n"
     ]
    }
   ],
   "source": [
    "# Fetching only bikes from 2020 which are not included in the training data\n",
    "\n",
    "import requests\n",
    "import os\n",
    "import json\n",
    "\n",
    "# Initialize the API details\n",
    "base_url = 'https://api.99spokes.com/v1/bikes'\n",
    "auth_token = os.environ.get('MY_API_KEY')  # Retrieve API key from environment variable\n",
    "headers = {\n",
    "    'x-api-key': auth_token  # Use x-api-key header for authorization\n",
    "}\n",
    "\n",
    "# Initialize the common query parameters\n",
    "params = {\n",
    "    'category': 'road',\n",
    "    'include': 'sizes',\n",
    "    'limit': 500,  # Adjust limit to 500\n",
    "    'year': 2020,  # Set to fetch only bikes from the year 2020\n",
    "    'cursor': 'start'  # Initial cursor value\n",
    "}\n",
    "\n",
    "# List to hold all bikes\n",
    "all_bikes = []\n",
    "\n",
    "# Use a while loop to page through the results\n",
    "while True:\n",
    "    response = requests.get(base_url, headers=headers, params=params)\n",
    "    response.raise_for_status()\n",
    "\n",
    "    data = response.json()\n",
    "    bikes = data.get('items', [])\n",
    "    all_bikes.extend(bikes)\n",
    "\n",
    "    # Update the cursor for the next page\n",
    "    cursor = data.get('nextCursor')\n",
    "    if cursor:\n",
    "        params['cursor'] = cursor\n",
    "    else:\n",
    "        print(\"No more pages to fetch for the year 2020.\")\n",
    "        break  # Exit the loop if there is no next cursor\n",
    "\n",
    "# Save the fetched data to a JSON file\n",
    "category = params['category']\n",
    "file_name = f'all_{category}_bikes_2020.json'\n",
    "with open(file_name, 'w') as file:\n",
    "    json.dump(all_bikes, file)\n",
    "\n",
    "total_count = len(all_bikes)\n",
    "print(f\"Total bikes available: {total_count}\")\n",
    "print(f\"Total {category} bikes from 2020 fetched: {len(all_bikes)}\")\n",
    "print(f\"All {category} bikes from 2020 saved to {file_name}\")\n"
   ]
  },
  {
   "cell_type": "code",
   "execution_count": 5,
   "id": "fe314d8b",
   "metadata": {},
   "outputs": [
    {
     "name": "stdout",
     "output_type": "stream",
     "text": [
      "Reordered CSV saved to new_encoded_road_bikes_2020.csv\n"
     ]
    }
   ],
   "source": [
    "# ensuring order of 2020 is the same as training data (2021-2024)\n",
    "\n",
    "import pandas as pd\n",
    "import numpy as np\n",
    "\n",
    "def align_csv_columns(source_csv_path, target_csv_path, output_csv_path):\n",
    "    # Load the source CSV file to determine the column order\n",
    "    source_df = pd.read_csv(source_csv_path)\n",
    "    source_columns = source_df.columns.tolist()\n",
    "    \n",
    "    # Load the target CSV file whose columns need to be reordered\n",
    "    target_df = pd.read_csv(target_csv_path)\n",
    "    \n",
    "    # Reorder the target DataFrame columns according to the source DataFrame\n",
    "    # Fill missing columns with NaN\n",
    "    for column in source_columns:\n",
    "        if column not in target_df.columns:\n",
    "            target_df[column] = np.nan\n",
    "    \n",
    "    # Reorder target DataFrame columns to match the source DataFrame\n",
    "    reordered_df = target_df[source_columns]\n",
    "    \n",
    "    # Save the reordered DataFrame to a new CSV file\n",
    "    reordered_df.to_csv(output_csv_path, index=False)\n",
    "    print(f\"Reordered CSV saved to {output_csv_path}\")\n",
    "\n",
    "# Example usage\n",
    "if __name__ == \"__main__\":\n",
    "    source_csv_path = 'encoded_road_bikes_2020-2024.csv'  # Path to the first CSV file\n",
    "    target_csv_path = 'encoded_road_bikes_2020.csv'  # Path to the second CSV file\n",
    "    output_csv_path = 'new_encoded_road_bikes_2020.csv'  # Path where the reordered CSV will be saved\n",
    "    align_csv_columns(source_csv_path, target_csv_path, output_csv_path)\n"
   ]
  },
  {
   "cell_type": "code",
   "execution_count": null,
   "id": "0318e226",
   "metadata": {},
   "outputs": [],
   "source": []
  }
 ],
 "metadata": {
  "kernelspec": {
   "display_name": "Python 3 (ipykernel)",
   "language": "python",
   "name": "python3"
  },
  "language_info": {
   "codemirror_mode": {
    "name": "ipython",
    "version": 3
   },
   "file_extension": ".py",
   "mimetype": "text/x-python",
   "name": "python",
   "nbconvert_exporter": "python",
   "pygments_lexer": "ipython3",
   "version": "3.11.5"
  }
 },
 "nbformat": 4,
 "nbformat_minor": 5
}
