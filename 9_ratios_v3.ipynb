{
 "cells": [
  {
   "cell_type": "markdown",
   "id": "3a5b334a",
   "metadata": {},
   "source": [
    "# This file is for adding the required ratios to the CSV file"
   ]
  },
  {
   "cell_type": "code",
   "execution_count": null,
   "id": "203ec294",
   "metadata": {},
   "outputs": [],
   "source": [
    "# Functions of this script:\n",
    "\n",
    "# 1. Calculate the ratios required based off the standardised values.\n",
    "# 2. print out all the column names\n",
    "# 3. Drop the unwanted columns now that we have the ratios included. \n",
    "# 4. Standardise the ratios. \n",
    "# 5. Calculate the mean and std deviation for the new file. \n",
    "\n",
    "# after completing all these steps, the csv file is now ready for clustering. "
   ]
  },
  {
   "cell_type": "code",
   "execution_count": 4,
   "id": "cc85bdbd",
   "metadata": {},
   "outputs": [
    {
     "name": "stdout",
     "output_type": "stream",
     "text": [
      "Updated CSV with ratios saved to all_road_bikes_with_ratios_2020-2024.csv\n"
     ]
    }
   ],
   "source": [
    "import pandas as pd\n",
    "import numpy as np\n",
    "\n",
    "# Load the data\n",
    "file_path = 'modified_imputed_road_bikes_2020-2024.csv'  # Make sure to replace with the correct path\n",
    "bikes_data = pd.read_csv(file_path)\n",
    "\n",
    "# Compute the ratios and add them as new columns using vectorized operations\n",
    "bikes_data['SRR'] = bikes_data['geometry.source.stackMM'] / bikes_data['geometry.source.reachMM']\n",
    "bikes_data['STRR'] = bikes_data['geometry.source.headTubeAngle_radians'] / bikes_data['geometry.source.trailMM']\n",
    "bikes_data['CSR'] = (bikes_data['geometry.source.wheelbaseMM'] * bikes_data['geometry.source.trailMM']) / bikes_data['geometry.source.bottomBracketDropMM']\n",
    "bikes_data['AI'] = (bikes_data['geometry.source.reachMM'] * np.tan(np.radians(bikes_data['geometry.source.headTubeAngle_radians']))) / bikes_data['geometry.source.wheelbaseMM']\n",
    "bikes_data['CS/WB'] = bikes_data['geometry.source.chainstayLengthMM'] / bikes_data['geometry.source.wheelbaseMM']\n",
    "bikes_data['BBH/WB'] = bikes_data['geometry.computed.bottomBracketHeightMM'] / bikes_data['geometry.source.wheelbaseMM']\n",
    "bikes_data['FC/WB'] = bikes_data['geometry.source.frontCenterMM'] / bikes_data['geometry.source.wheelbaseMM']\n",
    "\n",
    "# Handle potential division by zero and missing data\n",
    "bikes_data.replace([np.inf, -np.inf], np.nan, inplace=True)\n",
    "\n",
    "# Save the updated dataframe to a new CSV file\n",
    "new_file_path = 'all_road_bikes_with_ratios_2020-2024.csv'  # Replace with desired new file path\n",
    "bikes_data.to_csv(new_file_path, index=False)\n",
    "\n",
    "print(f\"Updated CSV with ratios saved to {new_file_path}\")\n"
   ]
  },
  {
   "cell_type": "code",
   "execution_count": 5,
   "id": "021d56d2",
   "metadata": {},
   "outputs": [
    {
     "name": "stdout",
     "output_type": "stream",
     "text": [
      "['geometry.source.stackMM', 'geometry.source.reachMM', 'geometry.source.topTubeLengthMM', 'geometry.source.seatTubeLengthMM', 'geometry.source.headTubeLengthMM', 'geometry.source.chainstayLengthMM', 'geometry.source.bottomBracketDropMM', 'geometry.source.wheelbaseMM', 'geometry.computed.stackReachRatio', 'geometry.computed.bottomBracketHeightMM', 'geometry.source.trailMM', 'geometry.source.rakeMM', 'geometry.source.frontCenterMM', 'geometry.source.headTubeAngle_radians', 'geometry.source.seatTubeAngle_radians', 'SRR', 'STRR', 'CSR', 'AI', 'CS/WB', 'BBH/WB', 'FC/WB']\n"
     ]
    }
   ],
   "source": [
    "# Use this script to Print out all the columns from your CSV file. \n",
    "# Change the path to file \n",
    "\n",
    "import pandas as pd\n",
    "\n",
    "# Load the data from a CSV file\n",
    "bikes_data = pd.read_csv('all_road_bikes_with_ratios_2020-2024.csv')\n",
    "\n",
    "# Print the column names\n",
    "print(bikes_data.columns.tolist())\n"
   ]
  },
  {
   "cell_type": "code",
   "execution_count": 6,
   "id": "3c3c7081",
   "metadata": {},
   "outputs": [
    {
     "name": "stdout",
     "output_type": "stream",
     "text": [
      "Filtered Dataset saved to new csv file: ready_for_clustering_2020-2024.csv\n"
     ]
    }
   ],
   "source": [
    "import pandas as pd\n",
    "\n",
    "def process_csv(input_file, output_file, columns_to_include):\n",
    "    # Load the CSV file into a DataFrame with only the specified columns\n",
    "    df = pd.read_csv(input_file, usecols=columns_to_include)\n",
    "    \n",
    "    # Save the modified DataFrame to a new CSV file\n",
    "    df.to_csv(output_file, index=False)\n",
    "\n",
    "# Replace with the names of columns you want to include\n",
    "columns_to_include = [\n",
    "    'SRR',\n",
    "    'STRR',\n",
    "    'CSR',\n",
    "    'AI', \n",
    "    'CS/WB',\n",
    "    'BBH/WB',\n",
    "    'FC/WB'\n",
    "]\n",
    "\n",
    "# Enter Data:\n",
    "input_file = 'all_road_bikes_with_ratios_2020-2024.csv'\n",
    "output_file = 'ready_for_clustering_2020-2024.csv'\n",
    "\n",
    "process_csv(input_file, output_file, columns_to_include)\n",
    "\n",
    "print('Filtered Dataset saved to new csv file: ready_for_clustering_2020-2024.csv')\n"
   ]
  },
  {
   "cell_type": "code",
   "execution_count": null,
   "id": "e8d52580",
   "metadata": {},
   "outputs": [],
   "source": []
  },
  {
   "cell_type": "code",
   "execution_count": null,
   "id": "923558dc",
   "metadata": {},
   "outputs": [],
   "source": []
  },
  {
   "cell_type": "code",
   "execution_count": null,
   "id": "17a2dc34",
   "metadata": {},
   "outputs": [],
   "source": []
  },
  {
   "cell_type": "code",
   "execution_count": null,
   "id": "e0c763e5",
   "metadata": {},
   "outputs": [],
   "source": []
  },
  {
   "cell_type": "code",
   "execution_count": null,
   "id": "a7a496bd",
   "metadata": {},
   "outputs": [],
   "source": []
  }
 ],
 "metadata": {
  "kernelspec": {
   "display_name": "Python 3 (ipykernel)",
   "language": "python",
   "name": "python3"
  },
  "language_info": {
   "codemirror_mode": {
    "name": "ipython",
    "version": 3
   },
   "file_extension": ".py",
   "mimetype": "text/x-python",
   "name": "python",
   "nbconvert_exporter": "python",
   "pygments_lexer": "ipython3",
   "version": "3.11.5"
  }
 },
 "nbformat": 4,
 "nbformat_minor": 5
}
